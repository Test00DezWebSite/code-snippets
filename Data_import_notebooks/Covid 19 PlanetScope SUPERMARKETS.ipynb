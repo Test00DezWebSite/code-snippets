{
 "cells": [
  {
   "cell_type": "markdown",
   "metadata": {},
   "source": [
    "# Third party Data Import - PlanetScope, COVID 19"
   ]
  },
  {
   "cell_type": "markdown",
   "metadata": {},
   "source": [
    "This Jupyter Notebook demonstrates how to import **PlanetScope** data into Sentinel Hub and then access it.\n",
    "Requirements for the data import:\n",
    "- AOI - few supermarkets around the Europe, given as geojson file\n",
    "- all data available in April 2019 ~~with less than 50% cloud coverage~~\n",
    "- all data in the period 2020-02-01 - 2020-04-02 ~~with less than 80% cloud coverage~~\n",
    "    - for both periods selecet a scene every 7 days with less than or equal to 30% cloud coverage\n",
    "\n",
    "We will use **Simple search** and **Order products**[1].\n",
    "\n",
    " \n",
    "Useful links:  \n",
    "    [1] TPDI API documentation: https://docs.sentinel-hub.com/api/latest/#/DATA_IMPORT_API/README  \n",
    "    [2] TPDI API reference (Swagger docs): https://docs.sentinel-hub.com/api/latest/reference/#tag/dataimport_planet  \n",
    "    [3] About PlanetScope data: https://docs.sentinel-hub.com/api/latest/#/data/PlanetScope"
   ]
  },
  {
   "cell_type": "markdown",
   "metadata": {},
   "source": [
    "## Imports and credentials"
   ]
  },
  {
   "cell_type": "markdown",
   "metadata": {},
   "source": [
    "Before you start an import, please:\n",
    "\n",
    "1. fill in **config.py** file with your credentials\n",
    "2. set the collection id and other setting in the cell starting with ## Settings\n"
   ]
  },
  {
   "cell_type": "code",
   "execution_count": 2,
   "metadata": {},
   "outputs": [],
   "source": [
    "import requests \n",
    "from oauthlib.oauth2 import BackendApplicationClient\n",
    "from requests_oauthlib import OAuth2Session\n",
    "\n",
    "import datetime\n",
    "import dateutil.parser\n",
    "\n",
    "# Import SH credentials and PLANET_API_KEY\n",
    "from config import *\n",
    "\n",
    "# Create a session\n",
    "client = BackendApplicationClient(client_id=client_id)\n",
    "oauth = OAuth2Session(client=client)\n",
    "\n",
    "\n",
    "# Get token for the session\n",
    "token = oauth.fetch_token(token_url='https://services.sentinel-hub.com/oauth/token',\n",
    "                          client_id=client_id, client_secret=client_secret)\n",
    "\n",
    "# All requests using this session will have an access token automatically added \n",
    "resp = oauth.get(\"https://services.sentinel-hub.com/oauth/tokeninfo\")"
   ]
  },
  {
   "cell_type": "code",
   "execution_count": null,
   "metadata": {},
   "outputs": [],
   "source": [
    "#Get my quota\n",
    "\n",
    "url = f\"https://services.sentinel-hub.com/dataimport/v1/quotas\"\n",
    "\n",
    "r = oauth.get(url=url)\n",
    "r.json()"
   ]
  },
  {
   "cell_type": "markdown",
   "metadata": {},
   "source": [
    "## A search function"
   ]
  },
  {
   "cell_type": "code",
   "execution_count": 41,
   "metadata": {},
   "outputs": [],
   "source": [
    "def search_by_date(search_date, PLANET_API_KEY, geometry, cc):\n",
    "    d1 = dateutil.parser.isoparse(search_date)\n",
    "    d2 = d1 + datetime.timedelta(days=1)\n",
    "    \n",
    "    url = \"https://services.sentinel-hub.com/dataimport/v1/search\"\n",
    "    \n",
    "    query = {\n",
    "    \"provider\": \"PLANET\",\n",
    "    \"planetApiKey\": PLANET_API_KEY,\n",
    "    \"bounds\": {\n",
    "        \"geometry\": geometry\n",
    "    },\n",
    "    \"data\": [\n",
    "        {\n",
    "            \"itemType\": \"PSScene4Band\",\n",
    "            \"productBundle\": \"analytic\",\n",
    "            \"dataFilter\": {\n",
    "                \"timeRange\": {\n",
    "                    \"from\": d1.isoformat().replace('+00:00', 'Z'),\n",
    "                    \"to\": d2.isoformat().replace('+00:00', 'Z')\n",
    "                },\n",
    "                \"maxCloudCoverage\": cc,\n",
    "                \"nativeFilter\": {\n",
    "                    \"type\": \"AndFilter\",\n",
    "                    \"config\": [\n",
    "                        {\n",
    "                            \"type\": \"PermissionFilter\",\n",
    "                            \"config\": [\n",
    "                                \"assets:download\"\n",
    "                            ]\n",
    "                        },\n",
    "                        {\n",
    "                            \"type\": \"AssetFilter\",\n",
    "                            \"config\": [\n",
    "                                \"analytic\"\n",
    "                            ]\n",
    "                        },\n",
    "                        {\"type\": \"StringInFilter\",\n",
    "                        \"field_name\": \"quality_category\",\n",
    "                        \"config\": [\n",
    "                            \"standard\"\n",
    "                            ]}\n",
    "                      ]   \n",
    "                    }\n",
    "                }\n",
    "            }\n",
    "        ]\n",
    "    }\n",
    "    \n",
    "    response = oauth.post(url, json=query)\n",
    "    response.raise_for_status()\n",
    "    results = response.json()\n",
    "    return results\n",
    "    "
   ]
  },
  {
   "cell_type": "markdown",
   "metadata": {},
   "source": [
    "##  Order data import"
   ]
  },
  {
   "cell_type": "code",
   "execution_count": 42,
   "metadata": {},
   "outputs": [],
   "source": [
    "## Read AOI from file\n",
    "\n",
    "file_name = \"RACE_supermarket_buffer_1.geojson\" # set your file name\n",
    "\n",
    "with open(file_name) as f: # we assigned buffer of cca 1km around given points\n",
    "    data = json.load(f)\n",
    "\n",
    "geometries = [ (feature[\"geometry\"], feature[\"properties\"][\"CITY\"]) for feature in data[\"features\"]]"
   ]
  },
  {
   "cell_type": "code",
   "execution_count": null,
   "metadata": {
    "scrolled": true
   },
   "outputs": [],
   "source": [
    "## Settings\n",
    "collectionId = \"\" # PlanetScope, Covid 19\n",
    "skip_names = [\"Milan\"] # Set the names of geometries, which you wanna skip\n",
    "area_treshold = 1000 # Set area treshhold in km^2, orders bigger than the treshold will not be confirmed\n",
    "\n",
    " # April 2019\n",
    "#date_from = \"2019-04-01T00:00:00.000Z\"\n",
    "#date_to = \"2019-05-01T00:00:00.000Z\"\n",
    "#name_sufix = \"\"\n",
    "#cc = 30\n",
    "\n",
    "# Today 2020\n",
    "date_from = \"2020-02-01T00:00:00.000Z\"\n",
    "date_to = \"2020-04-03T00:00:00.000Z\"\n",
    "name_sufix =\", 2020\"\n",
    "cc =30\n",
    "\n",
    "for geo in geometries:\n",
    "\n",
    "    geometry = geo[0]\n",
    "    name = geo[1] + name_sufix\n",
    "\n",
    "    if name in skip_names:\n",
    "        print (f\"{name} skipped.\")\n",
    "        continue\n",
    "    \n",
    "    ## Search\n",
    "    # Selecting a candidate date every 7 days\n",
    "    candidate_dates = [dateutil.parser.isoparse(date_from)]\n",
    "    inter_date = candidate_dates[0] + datetime.timedelta(days=7) \n",
    "    while temp_date < dateutil.parser.isoparse(date_to):\n",
    "        candidate_dates.append(inter_date)\n",
    "        inter_date = inter_date + datetime.timedelta(days=7) \n",
    "    \n",
    "    # Add the date_to to candiates dates - might not be needed\n",
    "    if dateutil.parser.isoparse(date_to) not in candidate_dates:\n",
    "        candidate_dates.append(dateutil.parser.isoparse(date_to))\n",
    "\n",
    "    selected_items = []\n",
    "\n",
    "    for date in candidate_dates:\n",
    "        iss = [0, 1, -1, 2, -2, 3, -3]\n",
    "        for i in iss:\n",
    "            print(i)\n",
    "            delete = False\n",
    "            date_temp = date + datetime.timedelta(days=i) \n",
    "            print(date_temp)\n",
    "            results = search_by_date(date_temp.isoformat(), PLANET_API_KEY, geometry, 100)\n",
    "            id_date_cc = [(feature[\"id\"], feature['properties'][\"acquired\"], feature['properties'][\"cloud_cover\"]) for feature in results[\"features\"]]\n",
    "            for row in id_date_cc:\n",
    "                if row[2] > cc/100:\n",
    "                    delete = True\n",
    "            if delete:\n",
    "                id_date_cc = []\n",
    "            print(id_date_cc)\n",
    "            if id_date_cc:\n",
    "                selected_items.extend(id_date_cc)\n",
    "                print(\"Results found\")\n",
    "                break\n",
    "                \n",
    "    print(f\"Search for {name} returns {selected_items}\")\n",
    "    item_ids = [item[0] for item in selected_items]\n",
    "    \n",
    "    if item_ids: \n",
    "        ## 2 Order products\n",
    "\n",
    "        url = f\"https://services.sentinel-hub.com/dataimport/v1/orders\"\n",
    "        payload = {\n",
    "            \"name\": name,\n",
    "            \"collectionId\": collection_id,\n",
    "            \"input\": {\n",
    "                \"provider\": \"PLANET\",\n",
    "                \"planetApiKey\": PLANET_API_KEY,\n",
    "                \"bounds\": {\n",
    "                    \"geometry\": geometry\n",
    "                },\n",
    "                \"data\": [\n",
    "                    {\n",
    "                        \"itemType\": \"PSScene4Band\",\n",
    "                        \"productBundle\": \"analytic\",\n",
    "                        \"itemIds\": item_ids\n",
    "                    }\n",
    "                ]\n",
    "            }\n",
    "        }\n",
    "        \n",
    "        response = oauth.post(url, json=payload)\n",
    "        response.raise_for_status()\n",
    "        order = response.json()\n",
    "        \n",
    "        order_id = order['id']\n",
    "        area = order['sqkm']\n",
    "        print(f\"Order {name}, id: {order_id}, area: {area} km^2\")\n",
    "        \n",
    "        if area < area_treshold:\n",
    "            ## 3 Confirm\n",
    "            url = f\"https://services.sentinel-hub.com/dataimport/v1/orders/{order_id}/confirm\"\n",
    "            response = oauth.post(url)\n",
    "            response.raise_for_status()\n"
   ]
  },
  {
   "cell_type": "code",
   "execution_count": 10,
   "metadata": {
    "scrolled": true
   },
   "outputs": [],
   "source": [
    "# Chek Order Status\n",
    "order_id = order_id\n",
    "\n",
    "url = f\"https://services.sentinel-hub.com/dataimport/v1/orders/{order_id}\"\n",
    "\n",
    "response = oauth.get(url)\n",
    "response.raise_for_status()\n",
    "\n",
    "order = response.json()\n",
    "order"
   ]
  },
  {
   "cell_type": "markdown",
   "metadata": {},
   "source": [
    "## List all orders"
   ]
  },
  {
   "cell_type": "code",
   "execution_count": 9,
   "metadata": {},
   "outputs": [],
   "source": [
    "url = \"https://services.sentinel-hub.com/dataimport/v1/orders\"\n",
    "\n",
    "response = oauth.get(url)\n",
    "response.raise_for_status()\n",
    "\n",
    "response.json()"
   ]
  },
  {
   "cell_type": "markdown",
   "metadata": {},
   "source": [
    "## Get the data"
   ]
  },
  {
   "cell_type": "markdown",
   "metadata": {},
   "source": [
    "To access the data using SH process API, plese refer to **Covid 19 Pleiades SUPERMARKETS** jupyter notebooks."
   ]
  },
  {
   "cell_type": "code",
   "execution_count": null,
   "metadata": {},
   "outputs": [],
   "source": []
  }
 ],
 "metadata": {
  "hide_input": false,
  "kernelspec": {
   "display_name": "base",
   "language": "python",
   "name": "base"
  },
  "language_info": {
   "codemirror_mode": {
    "name": "ipython",
    "version": 3
   },
   "file_extension": ".py",
   "mimetype": "text/x-python",
   "name": "python",
   "nbconvert_exporter": "python",
   "pygments_lexer": "ipython3",
   "version": "3.6.7"
  },
  "toc": {
   "base_numbering": 1,
   "nav_menu": {},
   "number_sections": true,
   "sideBar": true,
   "skip_h1_title": true,
   "title_cell": "Table of Contents",
   "title_sidebar": "Contents",
   "toc_cell": false,
   "toc_position": {
    "height": "calc(100% - 180px)",
    "left": "10px",
    "top": "150px",
    "width": "383.991px"
   },
   "toc_section_display": true,
   "toc_window_display": true
  }
 },
 "nbformat": 4,
 "nbformat_minor": 2
}
